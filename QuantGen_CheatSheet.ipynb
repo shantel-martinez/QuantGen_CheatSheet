{
 "cells": [
  {
   "cell_type": "markdown",
   "metadata": {},
   "source": [
    "# QuantGen_CheatSheet\n",
    "An in-progress cheat sheet of assumptions and variables in the Rex Bernardo Second Edition: Breeding for Quantitative Traits in Plant  \n",
    "\n",
    "Bernardo R (2010) Breeding for Quantitative Traits in Plants, 2nd edn. Stemma Press, Woodbury, Minn  \n",
    "Purchase here: http://stemmapress.com/   \n",
    "\n",
    "Last Updated: 2018.06.19   \n",
    "\n",
    "------------------------"
   ]
  },
  {
   "cell_type": "markdown",
   "metadata": {},
   "source": [
    "### Chapters 1 - 3 <a id=\"Ch1_3\"></a>  \n",
    "Introductions | Genetics of Breeding Populations | Phenotypic and Genotypic Values\n",
    "\n",
    "#### Variables  \n",
    "$A_{1}$ &nbsp;&nbsp;&nbsp;&nbsp;&nbsp;&nbsp; Allele 1  \n",
    "$A_{2}$ &nbsp;&nbsp;&nbsp;&nbsp;&nbsp;&nbsp; Allele 2  \n",
    "$\\alpha$   &nbsp; &nbsp;&nbsp;&nbsp;&nbsp;&nbsp;&nbsp; Avg effect of alleles   \n",
    "$\\alpha_{1}$   &nbsp;&nbsp;&nbsp;&nbsp;&nbsp;&nbsp; Avg effect of $A_{1}$   \n",
    "$\\alpha_{2}$   &nbsp;&nbsp;&nbsp;&nbsp;&nbsp;&nbsp; Avg effect of $A_{2}$  \n",
    "\n",
    "\n",
    "*a*  \n",
    "*p*  \n",
    "*q*  \n",
    "*d*  \n",
    "\n",
    "\n",
    "#### Assumptions\n",
    "*p* = *q* = 0.5 &nbsp;&nbsp;&nbsp;&nbsp;&nbsp;&nbsp; Inbred $F_{2}$  \n",
    "\n",
    "*d* = 0 &nbsp;&nbsp;&nbsp;&nbsp;&nbsp;&nbsp; Dominance is absent  \n",
    "*d* = 1 &nbsp;&nbsp;&nbsp;&nbsp;&nbsp;&nbsp; Dominance is absent  "
   ]
  },
  {
   "cell_type": "markdown",
   "metadata": {},
   "source": []
  }
 ],
 "metadata": {
  "kernelspec": {
   "display_name": "Python 3",
   "language": "python",
   "name": "python3"
  },
  "language_info": {
   "codemirror_mode": {
    "name": "ipython",
    "version": 3
   },
   "file_extension": ".py",
   "mimetype": "text/x-python",
   "name": "python",
   "nbconvert_exporter": "python",
   "pygments_lexer": "ipython3",
   "version": "3.6.4"
  }
 },
 "nbformat": 4,
 "nbformat_minor": 2
}
